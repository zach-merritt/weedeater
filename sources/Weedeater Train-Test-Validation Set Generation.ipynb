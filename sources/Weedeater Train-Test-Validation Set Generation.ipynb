{
 "cells": [
  {
   "cell_type": "code",
   "execution_count": 82,
   "metadata": {},
   "outputs": [],
   "source": [
    "import os\n",
    "import numpy as np\n",
    "from shutil import copy"
   ]
  },
  {
   "cell_type": "code",
   "execution_count": 83,
   "metadata": {},
   "outputs": [],
   "source": [
    "home = \"F:\\MIDS\\w210 Capstone\\\\weedeater\"\n",
    "data_folders = ['data2', 'data3', 'data4']\n",
    "root_data = \"F:\\MIDS\\w210 Capstone\\\\data\""
   ]
  },
  {
   "cell_type": "code",
   "execution_count": 84,
   "metadata": {},
   "outputs": [],
   "source": [
    "##execute once only\n",
    "categories = ['dirt', 'marigold', 'morning_glory', 'pea', 'radish']\n",
    "for folder in ['train', 'test', 'validation']:\n",
    "    for plant in categories:\n",
    "        os.makedirs(f'{root_data}\\\\{folder}\\\\{plant}')"
   ]
  },
  {
   "cell_type": "code",
   "execution_count": 85,
   "metadata": {},
   "outputs": [],
   "source": [
    "dirt = []\n",
    "marigold = []\n",
    "morning_glory = []\n",
    "pea = []\n",
    "radish = []\n",
    "for data in data_folders:\n",
    "    for plant in os.listdir(f'{home}\\\\{data}'):\n",
    "        if plant != \"README.TXT\":\n",
    "            for image in os.listdir(f'{home}\\\\{data}\\\\{plant}'):\n",
    "                image_path = f'{home}\\\\{data}\\\\{plant}\\\\{image}'\n",
    "                if plant == 'dirt' or plant == 'perlite':\n",
    "                    dirt.append(image_path)\n",
    "                if plant == 'marigold':\n",
    "                    marigold.append(image_path)\n",
    "                if plant == 'morning_glory':\n",
    "                    morning_glory.append(image_path)\n",
    "                if plant == 'pea':\n",
    "                    pea.append(image_path)\n",
    "                if plant == 'radish':\n",
    "                    radish.append(image_path)"
   ]
  },
  {
   "cell_type": "code",
   "execution_count": 86,
   "metadata": {},
   "outputs": [],
   "source": [
    "np.random.seed(12093)"
   ]
  },
  {
   "cell_type": "code",
   "execution_count": 87,
   "metadata": {},
   "outputs": [],
   "source": [
    "def shuffle_and_move(filepaths, plant_type):\n",
    "    '''given a list of filepaths randomly splits them into train/validation/test sets and moves them to \n",
    "    their respective folder specified by plant type.\n",
    "    \n",
    "    Splitting is done in a 70/15/15 ratio'''\n",
    "    np.random.shuffle(filepaths)\n",
    "    train, val, test = np.split(np.array(filepaths), [int(len(filepaths)*0.7), int(len(filepaths)*0.85)])\n",
    "    for file in train:\n",
    "        copy(file, f'{root_data}\\\\train\\\\{plant_type}')\n",
    "    for file in val:\n",
    "        copy(file, f'{root_data}\\\\validation\\\\{plant_type}')\n",
    "    for file in val:\n",
    "        copy(file, f'{root_data}\\\\test\\\\{plant_type}')"
   ]
  },
  {
   "cell_type": "code",
   "execution_count": 88,
   "metadata": {},
   "outputs": [],
   "source": [
    "shuffle_and_move(dirt, plant_type = 'dirt')\n",
    "shuffle_and_move(marigold, plant_type = 'marigold')\n",
    "shuffle_and_move(morning_glory, plant_type = 'morning_glory')\n",
    "shuffle_and_move(pea, plant_type = 'pea')\n",
    "shuffle_and_move(radish, plant_type = 'radish')"
   ]
  },
  {
   "cell_type": "code",
   "execution_count": null,
   "metadata": {},
   "outputs": [],
   "source": []
  }
 ],
 "metadata": {
  "kernelspec": {
   "display_name": "Python 3",
   "language": "python",
   "name": "python3"
  },
  "language_info": {
   "codemirror_mode": {
    "name": "ipython",
    "version": 3
   },
   "file_extension": ".py",
   "mimetype": "text/x-python",
   "name": "python",
   "nbconvert_exporter": "python",
   "pygments_lexer": "ipython3",
   "version": "3.6.8"
  }
 },
 "nbformat": 4,
 "nbformat_minor": 2
}
