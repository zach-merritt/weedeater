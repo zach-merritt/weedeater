{
 "cells": [
  {
   "cell_type": "code",
   "execution_count": 1,
   "metadata": {},
   "outputs": [
    {
     "name": "stderr",
     "output_type": "stream",
     "text": [
      "Using TensorFlow backend.\n"
     ]
    }
   ],
   "source": [
    "from keras.preprocessing.image import ImageDataGenerator\n",
    "from keras.models import Sequential\n",
    "from keras.layers import Conv2D, MaxPooling2D\n",
    "from keras.layers import Activation, Dropout, Flatten, Dense\n",
    "from PIL import Image\n",
    "import matplotlib.pyplot as plt"
   ]
  },
  {
   "cell_type": "markdown",
   "metadata": {},
   "source": [
    "Training On Data2 and Data4 without Data Generator. Validating on Data3"
   ]
  },
  {
   "cell_type": "code",
   "execution_count": 2,
   "metadata": {},
   "outputs": [
    {
     "name": "stdout",
     "output_type": "stream",
     "text": [
      "WARNING:tensorflow:From /home/john/.local/lib/python3.6/site-packages/tensorflow/python/framework/op_def_library.py:263: colocate_with (from tensorflow.python.framework.ops) is deprecated and will be removed in a future version.\n",
      "Instructions for updating:\n",
      "Colocations handled automatically by placer.\n",
      "WARNING:tensorflow:From /home/john/.local/lib/python3.6/site-packages/keras/backend/tensorflow_backend.py:3445: calling dropout (from tensorflow.python.ops.nn_ops) with keep_prob is deprecated and will be removed in a future version.\n",
      "Instructions for updating:\n",
      "Please use `rate` instead of `keep_prob`. Rate should be set to `rate = 1 - keep_prob`.\n"
     ]
    }
   ],
   "source": [
    "model = Sequential()\n",
    "model.add(Conv2D(32, (3, 3), input_shape = (200, 200, 3), data_format = 'channels_last'))\n",
    "model.add(Activation('relu'))\n",
    "model.add(MaxPooling2D(pool_size = (2, 2)))\n",
    "\n",
    "model.add(Conv2D(32, (3, 3)))\n",
    "model.add(Activation('relu'))\n",
    "model.add(MaxPooling2D(pool_size = (2, 2)))\n",
    "\n",
    "model.add(Conv2D(64, (3, 3)))\n",
    "model.add(Activation('relu'))\n",
    "model.add(MaxPooling2D(pool_size = (2, 2)))\n",
    "\n",
    "model.add(Flatten())\n",
    "model.add(Dense(64))\n",
    "model.add(Activation('relu'))\n",
    "model.add(Dropout(0.5))\n",
    "model.add(Dense(5))\n",
    "model.add(Activation('softmax'))\n",
    "\n",
    "model.compile(loss = 'categorical_crossentropy',\n",
    "              optimizer = 'adam',\n",
    "              metrics = ['accuracy'])"
   ]
  },
  {
   "cell_type": "code",
   "execution_count": 3,
   "metadata": {},
   "outputs": [],
   "source": [
    "train_dir = \"/home/john/Desktop/weedeater/data2\"\n",
    "val_dir = \"/home/john/Desktop/weedeater/data2\"\n",
    "save_dir = \"/home/john/Desktop/weedeater/models\""
   ]
  },
  {
   "cell_type": "code",
   "execution_count": 4,
   "metadata": {},
   "outputs": [
    {
     "name": "stdout",
     "output_type": "stream",
     "text": [
      "Found 24480 images belonging to 5 classes.\n",
      "Found 24480 images belonging to 5 classes.\n"
     ]
    }
   ],
   "source": [
    "batch_size = 32\n",
    "\n",
    "train_datagen = ImageDataGenerator(rescale = 1/255.0)\n",
    "\n",
    "test_datagen = ImageDataGenerator(rescale = 1/255.0)\n",
    "\n",
    "train_generator = train_datagen.flow_from_directory(train_dir,\n",
    "                                                   target_size = (200, 200),\n",
    "                                                   batch_size = batch_size,\n",
    "                                                    shuffle=True,\n",
    "                                                   class_mode = 'categorical')\n",
    "\n",
    "validation_generator = test_datagen.flow_from_directory(val_dir,\n",
    "                                                        target_size = (200, 200),\n",
    "                                                        batch_size = batch_size,\n",
    "                                                        class_mode = 'categorical')"
   ]
  },
  {
   "cell_type": "code",
   "execution_count": 5,
   "metadata": {},
   "outputs": [
    {
     "name": "stdout",
     "output_type": "stream",
     "text": [
      "WARNING:tensorflow:From /home/john/.local/lib/python3.6/site-packages/tensorflow/python/ops/math_ops.py:3066: to_int32 (from tensorflow.python.ops.math_ops) is deprecated and will be removed in a future version.\n",
      "Instructions for updating:\n",
      "Use tf.cast instead.\n",
      "Epoch 1/50\n",
      "62/62 [==============================] - 6s 99ms/step - loss: 1.2085 - acc: 0.5121 - val_loss: 0.6170 - val_acc: 0.7483\n",
      "Epoch 2/50\n",
      "62/62 [==============================] - 4s 67ms/step - loss: 0.6849 - acc: 0.7172 - val_loss: 0.2930 - val_acc: 0.8941\n",
      "Epoch 3/50\n",
      "62/62 [==============================] - 4s 65ms/step - loss: 0.4953 - acc: 0.8155 - val_loss: 0.2125 - val_acc: 0.9167\n",
      "Epoch 4/50\n",
      "62/62 [==============================] - 4s 63ms/step - loss: 0.3527 - acc: 0.8644 - val_loss: 0.2271 - val_acc: 0.8906\n",
      "Epoch 5/50\n",
      "62/62 [==============================] - 4s 68ms/step - loss: 0.2658 - acc: 0.8972 - val_loss: 0.1566 - val_acc: 0.9340\n",
      "Epoch 6/50\n",
      "62/62 [==============================] - 4s 67ms/step - loss: 0.2579 - acc: 0.9052 - val_loss: 0.1099 - val_acc: 0.9722\n",
      "Epoch 7/50\n",
      "62/62 [==============================] - 4s 68ms/step - loss: 0.1986 - acc: 0.9229 - val_loss: 0.1014 - val_acc: 0.9601\n",
      "Epoch 8/50\n",
      "62/62 [==============================] - 4s 68ms/step - loss: 0.1519 - acc: 0.9390 - val_loss: 0.0556 - val_acc: 0.9774\n",
      "Epoch 9/50\n",
      "62/62 [==============================] - 4s 67ms/step - loss: 0.1561 - acc: 0.9491 - val_loss: 0.0923 - val_acc: 0.9618\n",
      "Epoch 10/50\n",
      "62/62 [==============================] - 4s 65ms/step - loss: 0.1382 - acc: 0.9425 - val_loss: 0.0235 - val_acc: 0.9931\n",
      "Epoch 11/50\n",
      "62/62 [==============================] - 4s 65ms/step - loss: 0.1256 - acc: 0.9551 - val_loss: 0.0560 - val_acc: 0.9826\n",
      "Epoch 12/50\n",
      "62/62 [==============================] - 4s 68ms/step - loss: 0.1248 - acc: 0.9531 - val_loss: 0.0739 - val_acc: 0.9688\n",
      "Epoch 13/50\n",
      "62/62 [==============================] - 4s 67ms/step - loss: 0.1164 - acc: 0.9501 - val_loss: 0.0601 - val_acc: 0.9809\n",
      "Epoch 14/50\n",
      "62/62 [==============================] - 4s 64ms/step - loss: 0.0929 - acc: 0.9647 - val_loss: 0.0248 - val_acc: 0.9931\n",
      "Epoch 15/50\n",
      "62/62 [==============================] - 4s 64ms/step - loss: 0.0980 - acc: 0.9667 - val_loss: 0.0368 - val_acc: 0.9896\n",
      "Epoch 16/50\n",
      "62/62 [==============================] - 4s 67ms/step - loss: 0.0865 - acc: 0.9713 - val_loss: 0.0288 - val_acc: 0.9913\n",
      "Epoch 17/50\n",
      "62/62 [==============================] - 4s 67ms/step - loss: 0.0803 - acc: 0.9693 - val_loss: 0.0164 - val_acc: 0.9913\n",
      "Epoch 18/50\n",
      "62/62 [==============================] - 4s 67ms/step - loss: 0.0931 - acc: 0.9657 - val_loss: 0.0070 - val_acc: 1.0000\n",
      "Epoch 19/50\n",
      "62/62 [==============================] - 4s 68ms/step - loss: 0.0843 - acc: 0.9642 - val_loss: 0.0567 - val_acc: 0.9844\n",
      "Epoch 20/50\n",
      "62/62 [==============================] - 4s 67ms/step - loss: 0.1206 - acc: 0.9617 - val_loss: 0.0237 - val_acc: 0.9913\n",
      "Epoch 21/50\n",
      "62/62 [==============================] - 4s 67ms/step - loss: 0.1043 - acc: 0.9607 - val_loss: 0.0532 - val_acc: 0.9757\n",
      "Epoch 22/50\n",
      "62/62 [==============================] - 4s 66ms/step - loss: 0.0799 - acc: 0.9733 - val_loss: 0.0094 - val_acc: 1.0000\n",
      "Epoch 23/50\n",
      "62/62 [==============================] - 4s 69ms/step - loss: 0.0991 - acc: 0.9647 - val_loss: 0.0412 - val_acc: 0.9878\n",
      "Epoch 24/50\n",
      "62/62 [==============================] - 4s 73ms/step - loss: 0.0798 - acc: 0.9718 - val_loss: 0.0167 - val_acc: 0.9948\n",
      "Epoch 25/50\n",
      "62/62 [==============================] - 4s 69ms/step - loss: 0.0612 - acc: 0.9723 - val_loss: 0.0086 - val_acc: 0.9983\n",
      "Epoch 26/50\n",
      "62/62 [==============================] - 4s 67ms/step - loss: 0.0469 - acc: 0.9814 - val_loss: 0.0063 - val_acc: 0.9983\n",
      "Epoch 27/50\n",
      "62/62 [==============================] - 4s 67ms/step - loss: 0.0804 - acc: 0.9738 - val_loss: 0.0839 - val_acc: 0.9566\n",
      "Epoch 28/50\n",
      "62/62 [==============================] - 4s 68ms/step - loss: 0.1144 - acc: 0.9652 - val_loss: 0.0145 - val_acc: 0.9965\n",
      "Epoch 29/50\n",
      "62/62 [==============================] - 4s 70ms/step - loss: 0.0495 - acc: 0.9819 - val_loss: 0.0242 - val_acc: 0.9931\n",
      "Epoch 30/50\n",
      "62/62 [==============================] - 4s 67ms/step - loss: 0.0477 - acc: 0.9819 - val_loss: 0.0057 - val_acc: 0.9983\n",
      "Epoch 31/50\n",
      "62/62 [==============================] - 4s 63ms/step - loss: 0.0442 - acc: 0.9819 - val_loss: 0.1271 - val_acc: 0.9705\n",
      "Epoch 32/50\n",
      "62/62 [==============================] - 4s 69ms/step - loss: 0.0697 - acc: 0.9798 - val_loss: 0.0043 - val_acc: 1.0000\n",
      "Epoch 33/50\n",
      "62/62 [==============================] - 4s 70ms/step - loss: 0.0492 - acc: 0.9824 - val_loss: 0.0098 - val_acc: 0.9948\n",
      "Epoch 34/50\n",
      "62/62 [==============================] - 4s 69ms/step - loss: 0.0549 - acc: 0.9758 - val_loss: 0.0070 - val_acc: 1.0000\n",
      "Epoch 35/50\n",
      "62/62 [==============================] - 4s 67ms/step - loss: 0.0482 - acc: 0.9864 - val_loss: 0.0155 - val_acc: 0.9948\n",
      "Epoch 36/50\n",
      "62/62 [==============================] - 4s 69ms/step - loss: 0.0555 - acc: 0.9849 - val_loss: 0.0067 - val_acc: 0.9965\n",
      "Epoch 37/50\n",
      "62/62 [==============================] - 4s 66ms/step - loss: 0.0392 - acc: 0.9849 - val_loss: 0.0012 - val_acc: 1.0000\n",
      "Epoch 38/50\n",
      "62/62 [==============================] - 4s 65ms/step - loss: 0.0408 - acc: 0.9854 - val_loss: 0.0032 - val_acc: 0.9983\n",
      "Epoch 39/50\n",
      "62/62 [==============================] - 4s 65ms/step - loss: 0.0253 - acc: 0.9909 - val_loss: 0.0090 - val_acc: 0.9965\n",
      "Epoch 40/50\n",
      "62/62 [==============================] - 4s 70ms/step - loss: 0.0488 - acc: 0.9814 - val_loss: 0.0069 - val_acc: 0.9983\n",
      "Epoch 41/50\n",
      "62/62 [==============================] - 4s 68ms/step - loss: 0.0723 - acc: 0.9763 - val_loss: 0.0082 - val_acc: 0.9965\n",
      "Epoch 42/50\n",
      "62/62 [==============================] - 4s 67ms/step - loss: 0.0777 - acc: 0.9778 - val_loss: 0.0084 - val_acc: 0.9965\n",
      "Epoch 43/50\n",
      "62/62 [==============================] - 4s 66ms/step - loss: 0.0576 - acc: 0.9788 - val_loss: 0.0056 - val_acc: 1.0000\n",
      "Epoch 44/50\n",
      "62/62 [==============================] - 4s 69ms/step - loss: 0.0420 - acc: 0.9798 - val_loss: 0.0168 - val_acc: 0.9896\n",
      "Epoch 45/50\n",
      "62/62 [==============================] - 4s 64ms/step - loss: 0.0624 - acc: 0.9854 - val_loss: 0.0030 - val_acc: 0.9983\n",
      "Epoch 46/50\n",
      "62/62 [==============================] - 4s 70ms/step - loss: 0.0270 - acc: 0.9904 - val_loss: 0.0017 - val_acc: 1.0000\n",
      "Epoch 47/50\n",
      "62/62 [==============================] - 4s 65ms/step - loss: 0.0284 - acc: 0.9909 - val_loss: 0.0043 - val_acc: 0.9983\n",
      "Epoch 48/50\n",
      "62/62 [==============================] - 4s 68ms/step - loss: 0.0225 - acc: 0.9919 - val_loss: 0.0019 - val_acc: 1.0000\n",
      "Epoch 49/50\n",
      "62/62 [==============================] - 4s 69ms/step - loss: 0.0175 - acc: 0.9919 - val_loss: 0.0033 - val_acc: 0.9983\n",
      "Epoch 50/50\n",
      "62/62 [==============================] - 4s 71ms/step - loss: 0.0319 - acc: 0.9884 - val_loss: 0.0011 - val_acc: 1.0000\n"
     ]
    }
   ],
   "source": [
    "model.fit_generator(generator = train_generator,\n",
    "                    steps_per_epoch = 2000//batch_size,\n",
    "                    epochs = 50,\n",
    "                    validation_data = validation_generator,\n",
    "                    validation_steps = 600//batch_size)\n",
    "\n",
    "model.save_weights(save_dir + \"/sec_model.h5\")"
   ]
  },
  {
   "cell_type": "code",
   "execution_count": 6,
   "metadata": {},
   "outputs": [],
   "source": [
    "def plot_history(history):\n",
    "    loss_list = [s for s in history.history.keys() if 'loss' in s and 'val' not in s]\n",
    "    val_loss_list = [s for s in history.history.keys() if 'loss' in s and 'val' in s]\n",
    "    acc_list = [s for s in history.history.keys() if 'acc' in s and 'val' not in s]\n",
    "    val_acc_list = [s for s in history.history.keys() if 'acc' in s and 'val' in s]\n",
    "    \n",
    "    if len(loss_list) == 0:\n",
    "        print('Loss is missing in history')\n",
    "        return \n",
    "    \n",
    "    ## As loss always exists\n",
    "    epochs = range(1,len(history.history[loss_list[0]]) + 1)\n",
    "    \n",
    "    ## Loss\n",
    "    plt.figure(1)\n",
    "    for l in loss_list:\n",
    "        plt.plot(epochs, history.history[l], 'b', label='Training loss (' + str(str(format(history.history[l][-1],'.5f'))+')'))\n",
    "    for l in val_loss_list:\n",
    "        plt.plot(epochs, history.history[l], 'g', label='Validation loss (' + str(str(format(history.history[l][-1],'.5f'))+')'))\n",
    "    \n",
    "    plt.title('Loss')\n",
    "    plt.xlabel('Epochs')\n",
    "    plt.ylabel('Loss')\n",
    "    plt.legend()\n",
    "    \n",
    "    ## Accuracy\n",
    "    plt.figure(2)\n",
    "    for l in acc_list:\n",
    "        plt.plot(epochs, history.history[l], 'b', label='Training accuracy (' + str(format(history.history[l][-1],'.5f'))+')')\n",
    "    for l in val_acc_list:    \n",
    "        plt.plot(epochs, history.history[l], 'g', label='Validation accuracy (' + str(format(history.history[l][-1],'.5f'))+')')\n",
    "\n",
    "    plt.title('Accuracy')\n",
    "    plt.xlabel('Epochs')\n",
    "    plt.ylabel('Accuracy')\n",
    "    plt.legend()\n",
    "    plt.show()"
   ]
  },
  {
   "cell_type": "code",
   "execution_count": 7,
   "metadata": {},
   "outputs": [
    {
     "data": {
      "image/png": "[encoded data removed]",
      "text/plain": [
       "<Figure size 432x288 with 1 Axes>"
      ]
     },
     "metadata": {
      "needs_background": "light"
     },
     "output_type": "display_data"
    },
    {
     "data": {
      "image/png": "[encoded data removed]",
      "text/plain": [
       "<Figure size 432x288 with 1 Axes>"
      ]
     },
     "metadata": {
      "needs_background": "light"
     },
     "output_type": "display_data"
    }
   ],
   "source": [
    "plot_history(model.history)"
   ]
  },
  {
   "cell_type": "code",
   "execution_count": null,
   "metadata": {},
   "outputs": [],
   "source": []
  }
 ],
 "metadata": {
  "kernelspec": {
   "display_name": "Python 3",
   "language": "python",
   "name": "python3"
  },
  "language_info": {
   "codemirror_mode": {
    "name": "ipython",
    "version": 3
   },
   "file_extension": ".py",
   "mimetype": "text/x-python",
   "name": "python",
   "nbconvert_exporter": "python",
   "pygments_lexer": "ipython3",
   "version": "3.6.7"
  }
 },
 "nbformat": 4,
 "nbformat_minor": 2
}
