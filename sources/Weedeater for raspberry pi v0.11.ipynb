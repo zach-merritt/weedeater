{
 "cells": [
  {
   "cell_type": "markdown",
   "metadata": {},
   "source": [
    "Notebook for developing the prediction functionality of the raspberry pi. Current design is to call a .py file on the command line with options to specify an image and model file. It will then return the predicted class and its probability."
   ]
  },
  {
   "cell_type": "code",
   "execution_count": 2,
   "metadata": {},
   "outputs": [
    {
     "name": "stdout",
     "output_type": "stream",
     "text": [
      "predicted class: pea\n",
      "probability: 0.9999600052833557\n"
     ]
    }
   ],
   "source": [
    "from keras.preprocessing.image import ImageDataGenerator, array_to_img, img_to_array, load_img\n",
    "from keras.models import Sequential\n",
    "from keras.layers import Conv2D, MaxPooling2D\n",
    "from keras.layers import Activation, Dropout, Flatten, Dense\n",
    "from PIL import Image\n",
    "import matplotlib.pyplot as plt\n",
    "import numpy as np\n",
    "import cv2\n",
    "import sys\n",
    "import argparse\n",
    "\n",
    "### command line exclusive code ###\n",
    "#parser = argparse.ArgumentParser(description = 'Uses saved weights from a Keras CNN to classify images')\n",
    "#parser.add_argument('model_weights', metavar = 'model', type = str, help = 'the file path to the model weight h5 file')\n",
    "#parser.add_argument('image_file', metavar = 'image', type = str, help = 'the file path to the image file to be classified')\n",
    "#args = parser.parse_args()\n",
    "#print(args.model_weights)\n",
    "#print(args.image_file)\n",
    "\n",
    "#weights = args.model_weights\n",
    "#image = args.image_file\n",
    "\n",
    "###\n",
    "weights = \"F:\\\\MIDS\\\\w210 Capstone\\\\models\\\\first_model.h5\"\n",
    "image = \"F:\\\\MIDS\\\\w210 Capstone\\\\weedeater\\\\data4\\\\pea\\\\image_P07_00_DSC_0103.JPG\"\n",
    "\n",
    "model = Sequential()\n",
    "model.add(Conv2D(32, (3, 3), input_shape = (200, 200, 3), data_format = 'channels_last'))\n",
    "model.add(Activation('relu'))\n",
    "model.add(MaxPooling2D(pool_size = (2, 2)))\n",
    "\n",
    "model.add(Conv2D(32, (3, 3)))\n",
    "model.add(Activation('relu'))\n",
    "model.add(MaxPooling2D(pool_size = (2, 2)))\n",
    "\n",
    "model.add(Conv2D(64, (3, 3)))\n",
    "model.add(Activation('relu'))\n",
    "model.add(MaxPooling2D(pool_size = (2, 2)))\n",
    "\n",
    "model.add(Flatten())\n",
    "model.add(Dense(64))\n",
    "model.add(Activation('relu'))\n",
    "model.add(Dropout(0.5))\n",
    "model.add(Dense(4))\n",
    "model.add(Activation('softmax'))\n",
    "\n",
    "model.compile(loss = 'categorical_crossentropy',\n",
    "              optimizer = 'adam',\n",
    "              metrics = ['accuracy'])\n",
    "\n",
    "model.load_weights(weights)\n",
    "\n",
    "def output_prediction(image_path, save_dir = None, true_class = None, show_img = False):\n",
    "    '''Given an image path, returns the predicted class and its probability'''\n",
    "    classes = {'marigold': 0, 'morning_glory': 1, 'pea': 2, 'radish': 3}\n",
    "    image = load_img(image_path, target_size = (200, 200))\n",
    "    x = np.reshape(img_to_array(image)/255.0, [1, 200, 200, 3])\n",
    "    class_lookup = {v: k for k, v in classes.items()}\n",
    "    prediction_index = model.predict_classes(x)[0]\n",
    "    class_prob = round(model.predict(x)[0][prediction_index], 5)\n",
    "    predicted_class = class_lookup[prediction_index]\n",
    "    \n",
    "    if show_img:\n",
    "        title = f'Predicted class: {predicted_class}, prob = {class_prob} \\n True Class: {true_class}'\n",
    "        img = display_image(cv2.imread(image_path), title)\n",
    "    \n",
    "    if save_dir:\n",
    "        image_name = image_path.split(\"\\\\\")[len(image_path.split(\"\\\\\")) - 1].split(\".\")[0]\n",
    "        save_path = f'{save_dir}\\\\{image_name}_prediction.jpg'\n",
    "        img.savefig(save_path, format = \"png\")\n",
    "        \n",
    "    return (predicted_class, class_prob, true_class)\n",
    "\n",
    "predicted_class, class_prob, true_class = output_prediction(image_path = image)\n",
    "print(f'predicted class: {predicted_class}')\n",
    "print(f'probability: {class_prob}')"
   ]
  },
  {
   "cell_type": "code",
   "execution_count": null,
   "metadata": {},
   "outputs": [],
   "source": []
  }
 ],
 "metadata": {
  "kernelspec": {
   "display_name": "Python 3",
   "language": "python",
   "name": "python3"
  },
  "language_info": {
   "codemirror_mode": {
    "name": "ipython",
    "version": 3
   },
   "file_extension": ".py",
   "mimetype": "text/x-python",
   "name": "python",
   "nbconvert_exporter": "python",
   "pygments_lexer": "ipython3",
   "version": "3.6.8"
  }
 },
 "nbformat": 4,
 "nbformat_minor": 2
}
